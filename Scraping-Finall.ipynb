{
 "cells": [
  {
   "cell_type": "markdown",
   "metadata": {},
   "source": [
    "#  Construction de la base de données\n",
    "\n",
    "A partir des données disponible sur le site [Tennis Temple](https://fr.tennistemple.com/), nous allons construire une base de données compilant les statistiques des matchs joués les dix dernières années sur le circuit ATP."
   ]
  },
  {
   "cell_type": "markdown",
   "metadata": {},
   "source": [
    "### Importation des modules"
   ]
  },
  {
   "cell_type": "code",
   "execution_count": null,
   "metadata": {},
   "outputs": [],
   "source": [
    "import urllib\n",
    "import bs4\n",
    "import selenium\n",
    "import collections\n",
    "import pandas as pd\n",
    "import numpy as np"
   ]
  },
  {
   "cell_type": "markdown",
   "metadata": {},
   "source": [
    "### Fonction liminaire\n",
    "\n",
    "La fonction get_page(url) permet de récupérer l'ensemble du code source de la page web identifiée par l'extension url en argument sur le site [Tennis Temple](https://fr.tennistemple.com/)"
   ]
  },
  {
   "cell_type": "code",
   "execution_count": null,
   "metadata": {},
   "outputs": [],
   "source": [
    "from unidecode import unidecode\n",
    "\n",
    "def get_page(url):\n",
    "    \n",
    "    url_tournoi = 'https://fr.tennistemple.com' + url\n",
    "    url_tournoi = unidecode(url_tournoi) #Permet de retirer les accents de l'url\n",
    "    req = urllib.request.Request(url_tournoi)\n",
    "    html = urllib.request.urlopen(req).read()\n",
    "    \n",
    "    return bs4.BeautifulSoup(html, \"lxml\")"
   ]
  },
  {
   "cell_type": "markdown",
   "metadata": {},
   "source": [
    "### Récupération de tous les tournois joués les 10 dernières années\n",
    "\n",
    "Sur la page [Tennis temple calendrier](https://fr.tennistemple.com/calendrier-atp/) sont référencés par mois et par année les différentes éditions des tournois inscrits au calendrier ATP.\n",
    "Nous cherchons donc à récupérer les noms et les extensions url de ces tounois."
   ]
  },
  {
   "cell_type": "code",
   "execution_count": 1,
   "metadata": {},
   "outputs": [
    {
     "ename": "SyntaxError",
     "evalue": "invalid syntax (<ipython-input-1-374c52846bf6>, line 7)",
     "output_type": "error",
     "traceback": [
      "\u001b[1;36m  File \u001b[1;32m\"<ipython-input-1-374c52846bf6>\"\u001b[1;36m, line \u001b[1;32m7\u001b[0m\n\u001b[1;33m    url_tournoi = '/calendrier-atp/' + m.[1] + \"-\"+ m.[0] + \"-\" + a\u001b[0m\n\u001b[1;37m                                         ^\u001b[0m\n\u001b[1;31mSyntaxError\u001b[0m\u001b[1;31m:\u001b[0m invalid syntax\n"
     ]
    }
   ],
   "source": [
    "# Vérifier qu'il n'y a pas de bug pour décembre où certaines années aucun tournoi n'est joué\n",
    "\n",
    "liste_mois = [(1,janvier),(2,fevrier),(3,mars),(4,avril),(5,mai),(6,juin),(7,juillet),(8,aout),(9,septembre),(10,octobre),(11,novembre),(12,decembre)]\n",
    "\n",
    "for a in range (2006,2019):\n",
    "    \n",
    "    for m in liste_mois :\n",
    "        \n",
    "        url_tournoi = '/calendrier-atp/' + m[1] + \"-\"+ m[0] + \"-\" + a\n",
    "        page = get_page(url_tournoi)\n",
    "        \n",
    "        Liste_url_tournoi = []\n",
    "        Liste_tournoi = []\n",
    "\n",
    "        for item in page.findAll('div', {'itemtype' : 'http://schema.org/SportsEvent'}): \n",
    "            \n",
    "            for tournoi in item.findAll({'a'}) :\n",
    "                \n",
    "                Liste_url_tournoi.append(tournoi.get(\"href\"))\n",
    "                \n",
    "                # Nettoyage du nom du tournoi\n",
    "                nom_tournoi = tournoi.getText()\n",
    "                nom_tournoi=nom_tournoi.lstrip('\\n').lstrip('\\t')\n",
    "                nom_tournoi=nom_tournoi.rstrip('\\n').rstrip('\\t').rstrip('\\n')\n",
    "                \n",
    "                Liste_tournoi.append(nom_tournoi)"
   ]
  },
  {
   "cell_type": "markdown",
   "metadata": {},
   "source": [
    "### Données sur les tournois"
   ]
  },
  {
   "cell_type": "code",
   "execution_count": null,
   "metadata": {},
   "outputs": [],
   "source": [
    "# Regarder si pas plus élégant avec un tableau numpy\n",
    "\n",
    "Liste_nom = []\n",
    "Liste_location = []\n",
    "Liste_categorie = []\n",
    "Liste_surface = []\n",
    "Liste_date = []\n",
    "Liste_dotation = []\n",
    "\n",
    "for url in Liste_url_tournoi:\n",
    "    \n",
    "    page_tournoi = get_page(url)\n",
    "    \n",
    "    for item in page_tournoi.findAll('div', {'class' : 'ts_d_3'}):\n",
    "        intitule = item.find('div', {'class' : 'ts_d_4'}).getText()\n",
    "        \n",
    "        if intitule == \"Nom officiel\" :\n",
    "            Liste_nom.append(item.find('div', {'class' : 'ts_d_5'}).getText())\n",
    "        elif intitule == \"Ville\" :\n",
    "            Liste_location.append(item.find('div', {'class' : 'ts_d_5'}).getText())\n",
    "        elif intitule == \"Catégorie\" :\n",
    "            Liste_categorie.append(item.find('div', {'class' : 'ts_d_5'}).getText())\n",
    "        elif intitule == \"Surface\" :\n",
    "            Liste_surface.append(item.find('div', {'class' : 'ts_d_5'}).getText())\n",
    "        elif intitule == \"Date\" :\n",
    "            Liste_date.append(item.find('div', {'class' : 'ts_d_5'}).getText())\n",
    "        elif intitule == \"Dotations\" :\n",
    "            Liste_dotation.append(item.find('div', {'class' : 'ts_d_5'}).getText())\n",
    "\n",
    "df_tournoi = pd.DataFrame({'Nom' : Liste_tournoi, 'Nom officiel' : Liste_nom, 'Ville' : Liste_location, 'Categorie' : Liste_categorie, 'Surface' : Liste_surface, 'Date' : Liste_date, 'Dotations' : Liste_dotation, 'Url' : Liste_url})"
   ]
  },
  {
   "cell_type": "code",
   "execution_count": null,
   "metadata": {},
   "outputs": [],
   "source": [
    "df_tournoi.head()"
   ]
  },
  {
   "cell_type": "markdown",
   "metadata": {},
   "source": [
    "### Récupération des matchs joués dans chacun des tournois\n",
    "\n",
    "A partir de la page de chacun des tournois, il est possible d'accéder au tableau de ce-dernier, référençant l'ensemble des matchs qui ont été joués."
   ]
  },
  {
   "cell_type": "code",
   "execution_count": null,
   "metadata": {},
   "outputs": [],
   "source": [
    "Liste_url_match = []\n",
    "\n",
    "for url in Liste_url_tournoi:\n",
    "    \n",
    "    page_tableau = get_page(url + '/tableau')\n",
    "    \n",
    "    for item in page_tableau.findAll('a',{'style' : 'padding-left:2px;color:#515151;font-size:11px;font-style:italic;'}):\n",
    "    \n",
    "        Liste_url_match.append(item.get(\"href\"))"
   ]
  },
  {
   "cell_type": "markdown",
   "metadata": {},
   "source": [
    "### Informations sur les matchs joués"
   ]
  },
  {
   "cell_type": "code",
   "execution_count": null,
   "metadata": {},
   "outputs": [],
   "source": [
    "tab = numpy.zeros(len(Liste_url_match),23)\n",
    "\n",
    "for i in range(len(Liste_url_match)) :\n",
    "    \n",
    "    url = Liste_url_match[i]\n",
    "    \n",
    "    page_match = get_page(url)\n",
    "    \n",
    "    # Liste des noms\n",
    "    Liste_Nom = page_match.findAll('span', {'itemprop' : 'name'})\n",
    "    \n",
    "    #Nom tournoi\n",
    "    tab[i,0] = Liste_Nom[0].getText()\n",
    "\n",
    "    #Nom du premier joueur\n",
    "    tab[i,1] = Liste_Nom[1].find('b').getText()\n",
    "    \n",
    "    #Prenom du premier joueur\n",
    "    tab[i,2] = Liste_Nom[1].find('span', {'class' : 'first_name'}).getText()[2:]\n",
    "    \n",
    "    #Nom du deuxieme joueur\n",
    "    tab[i,3] = Liste_Nom[2].find('b').getText()\n",
    "    \n",
    "    #Prenom du deuxieme joueur\n",
    "    tab[i,4] = Liste_Nom[2].find('span', {'class' : 'first_name'}).getText()[2:]\n",
    "    \n",
    "    #Avancement dans le tournoi\n",
    "    \n",
    "    # tab[i,5]\n",
    "    # Regarder quelque chose avec href = l'url du tableau du tournoi\n",
    "    \n",
    "    #Duree du match\n",
    "    tab[i,6] = page_match.find('div', {'class' : 'status status_2'}).getText()[16:]\n",
    "    \n",
    "    #Temperature\n",
    "    tab[i,7] = page_match.find('div', {'style' : 'float:right;margin-right:8px;color:#c9c9c9;font-size:11px;'}).getText()\n",
    "    \n",
    "    #Score\n",
    "    #1er set\n",
    "    tab[i,8] = page_match.find('div', {'class' : 'p1'}).find('div', {'class' : 'set1'}).getText()\n",
    "    tab[i,9] = page_match.find('div', {'class' : 'p2'}).find('div', {'class' : 'set1'}).getText()\n",
    "    \n",
    "    #2eme set\n",
    "    tab[i,10] = page_match.find('div', {'class' : 'p1'}).find('div', {'class' : 'set2'}).getText()\n",
    "    tab[i,11] = page_match.find('div', {'class' : 'p2'}).find('div', {'class' : 'set2'}).getText()\n",
    "    \n",
    "    #3eme set\n",
    "    tab[i,12] = page_match.find('div', {'class' : 'p1'}).find('div', {'class' : 'set3'}).getText()\n",
    "    tab[i,13] = page_match.find('div', {'class' : 'p2'}).find('div', {'class' : 'set3'}).getText()\n",
    "    \n",
    "    #4eme set\n",
    "    tab[i,14] = page_match.find('div', {'class' : 'p1'}).find('div', {'class' : 'set4'}).getText()\n",
    "    tab[i,15] = page_match.find('div', {'class' : 'p2'}).find('div', {'class' : 'set4'}).getText()\n",
    "    \n",
    "    #5eme set\n",
    "    tab[i,16] = page_match.find('div', {'class' : 'p1'}).find('div', {'class' : 'set5'}).getText()\n",
    "    tab[i,17] = page_match.find('div', {'class' : 'p2'}).find('div', {'class' : 'set5'}).getText()\n",
    "    \n",
    "    # faire des conditions sur le non vide, pour le cas des matchs forfaits\n",
    "    \n",
    "    #Stats match\n",
    "    if page_match.find('div', {'class' : 'set set0'}) :\n",
    "        tab_match = page_match.find('div', {'class' : 'set set0'})\n",
    "        tab[i,17] = tab_match.find('div', {'class' :'tt_service_game_won_rap'}).find('div', {'class' : 'p1'}).getText()\n",
    "    #Stats 1er set\n",
    "    \n",
    "    #Stats 2eme set\n",
    "    \n",
    "    #Stats 3eme set\n",
    "    \n",
    "    #Stats 4eme set\n",
    "    \n",
    "    #Stats 5eme set\n",
    "    "
   ]
  }
 ],
 "metadata": {
  "kernelspec": {
   "display_name": "Python 3",
   "language": "python",
   "name": "python3"
  },
  "language_info": {
   "codemirror_mode": {
    "name": "ipython",
    "version": 3
   },
   "file_extension": ".py",
   "mimetype": "text/x-python",
   "name": "python",
   "nbconvert_exporter": "python",
   "pygments_lexer": "ipython3",
   "version": "3.6.4"
  }
 },
 "nbformat": 4,
 "nbformat_minor": 2
}
